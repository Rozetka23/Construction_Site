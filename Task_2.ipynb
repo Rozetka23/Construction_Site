{
  "nbformat": 4,
  "nbformat_minor": 0,
  "metadata": {
    "colab": {
      "provenance": [],
      "authorship_tag": "ABX9TyPOGA9i8eDCzxwfE0LZD+g+",
      "include_colab_link": true
    },
    "kernelspec": {
      "name": "python3",
      "display_name": "Python 3"
    },
    "language_info": {
      "name": "python"
    }
  },
  "cells": [
    {
      "cell_type": "markdown",
      "metadata": {
        "id": "view-in-github",
        "colab_type": "text"
      },
      "source": [
        "<a href=\"https://colab.research.google.com/github/Rozetka23/Construction_Site/blob/main/Task_2.ipynb\" target=\"_parent\"><img src=\"https://colab.research.google.com/assets/colab-badge.svg\" alt=\"Open In Colab\"/></a>"
      ]
    },
    {
      "cell_type": "markdown",
      "source": [
        "# **Заголовок**\n",
        "\n",
        "---\n",
        "\n",
        "## **Подзаголовок**\n",
        "* Lorem ipsum dolor sit amet, consectetur adipiscing elit. Pellentesque tristique gravida pulvinar. Sed ex lacus;\n",
        "    * Lorem ipsum dolor sit amet, consectetur adipiscing elit. Morbi porttitor elit ipsum, in [fermentum nunc](https://www.youtube.com/watch?v=dQw4w9WgXcQ);\n",
        "    * Lorem ipsum dolor sit amet, consectetur adipiscing elit. Pellentesque tristique gravida pulvinar. Sed ex lacus;\n",
        "    * \"Neque porro quisquam est qui dolorem ipsum quia dolor sit amet, consectetur, adipisci velit...\";\n",
        "* Lorem ipsum dolor sit amet, consectetur adipiscing elit. Donec et leo volutpat, hendrerit massa vel.;\n",
        "    * Lorem ipsum dolor sit amet, consectetur adipiscing elit. Integer tincidunt tempus neque, ac *aliquet quam*;\n",
        "    * \"Neque porro quisquam est qui dolorem ipsum quia dolor sit amet, consectetur, adipisci velit...\"\n",
        "\n",
        "| 6 | 4 | 12|\n",
        "|---|---|---|\n",
        "| 1 | 2 | 3 |\n",
        "| 3 | 2 | 1 |  \n",
        "| a | b | c |\n",
        "\n",
        "  ![images.png](data:image/png;base64,iVBORw0KGgoAAAANSUhEUgAAAQwAAAC8CAMAAAC672BgAAAAbFBMVEX///8AAAD5+fnY2Nh6enqMjIzm5ubAwMCtra3Ly8ve3t5mZmY0NDS2trbU1NRsbGzx8fGdnZ1QUFDExMSDg4P09PRJSUnj4+NxcXHIyMiRkZGoqKgVFRVhYWEoKCg+Pj6WlpZZWVkfHx87OzvcHJJXAAADkElEQVR4nO3da1vaMACGYUWQg3JQVCgMhe3//8ddW5vwSpYsbWlT4Lk/YqPNAx8iPd3dAQAAAAAAAAAAADiT3qLwXmm4Gb04826lkd0X3ioN/zLDr6LG2MxmUGn4KzGOiCGIIYghiCGIIWyMasuUbug9FqZ2nbEoXol5j+22H2b4xPzCxnf9/Gb3XvuI4Qf/8IZ3vAkP/tm8RAx/IsYRMQQxBDEEMQQxxM3EGKwmucDqKxBjYrQ3mboCMaytf3ggxgV+RGJijPzDiSGIIYghiCGIIYghrjTG83qee3Vms3mY5ezqa1W8MDmYbXbF6PUPZ/ik2HiWcp5RbAx7VHHpf4+nZpu18yPb6fmCPyI2Rt+8MvTPZmi26Ts/sl95EoMYxMgRgxg3HmPqn01MjM+rijFb93Pu6ms/zs12/hiDYvSbG2NWDB+nmer/uTGswEfE5R5a9W/7s42JVRGIMWoqxnMbE6uCGIIYghiCGIIYghjCjfE4zC3/sWzyGy2LYT3zewZvuYGz7Wc2PNGRL8FKLcdjuAdmIwbtWp2zV6l/1BqL8dTqnL2IIYghiCGIIYghzh6j5/yJiEHzVufsZWMchtNcqbWWazQ9ERP3w/zxtF+CxRx4btGaGEfuf0jEIMYfxBDEEMQQxBDEEK+j3DZm9ZVtR99ta15H2rEYVsyNK9wzy1bXGSPmUuPAuQDEIMY3xBDEEMQQNWNMEkw0RpsxFvuXXM3vtRoTiJEVu779cEZVi7FKML9SAjEC71+1GI/tTauaQAz3SLZFDEEMQQxBDEEMQQxBDEEMQQxBDEEMQQxBDEEMcXsxNv5R1Q4iBWLMszon0meBSznLcGMszYn57hdcW3MWf7XDi4EYG7NNtUssAhf5luHGePFvXPO+aIEYdjcuJ8YDMY6IIYghiCGIIa49xsbZ5RuO8dU/5a61rGuPUQoxBDEEMQQxBDEEMURzMexyp9QdAmJugdmY5mL8Ku6Sug6sclyBm6M2Zmtu2lrz/PnOfwca41zXfRKDGMQgBjGIQYy/stuNsV9NTpzrmZcXGCPwxARiEIMYOWIIYghiiOZidP4aNVfgOX91mcdSB55zk8LaPEHb1cJjxTt2kS83ExHEEMQQxBDEEMQQaWPMUk//u7S3wLxb5N5r3iC2nl3P7EbaGMY4ZYyO3EPYIoYghiCGIIYghiCGyFLGOKSe/aleSqknDwAAAAAAgE77DWlzb6qKYLukAAAAAElFTkSuQmCC)"
      ],
      "metadata": {
        "id": "_6CNL-oKrCzd"
      }
    }
  ]
}